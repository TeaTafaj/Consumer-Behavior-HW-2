{
 "cells": [
  {
   "cell_type": "code",
   "execution_count": null,
   "id": "5a4dc9e1",
   "metadata": {},
   "outputs": [
    {
     "name": "stdout",
     "output_type": "stream",
     "text": [
      "c:\\Users\\User\\Documents\\Data Eng\\Consumer-Behavior-HW-2\\.venv\\Scripts\\python.exe\n"
     ]
    }
   ],
   "source": [
    "import sys\n",
    "\n",
    "print(sys.executable)"
   ]
  },
  {
   "cell_type": "code",
   "execution_count": null,
   "id": "22da4bc3",
   "metadata": {},
   "outputs": [
    {
     "name": "stdout",
     "output_type": "stream",
     "text": [
      "OK: 1.7.2\n"
     ]
    }
   ],
   "source": [
    "import sklearn, pandas, matplotlib\n",
    "\n",
    "print(\"OK:\", sklearn.__version__)"
   ]
  },
  {
   "cell_type": "code",
   "execution_count": 1,
   "id": "53133b5b",
   "metadata": {},
   "outputs": [],
   "source": [
    "from Consumer_Behavior import (\n",
    "    load_data,\n",
    "    clean_engagement,\n",
    "    filter_smartphone_users,\n",
    "    group_device_ads_mean,\n",
    "    plot_device_ads,\n",
    "    prepare_ml_frame,\n",
    "    train_and_eval_logreg,\n",
    ")"
   ]
  },
  {
   "cell_type": "code",
   "execution_count": 3,
   "id": "a5be1a7c",
   "metadata": {},
   "outputs": [
    {
     "data": {
      "application/vnd.microsoft.datawrangler.viewer.v0+json": {
       "columns": [
        {
         "name": "index",
         "rawType": "int64",
         "type": "integer"
        },
        {
         "name": "Customer_ID",
         "rawType": "object",
         "type": "string"
        },
        {
         "name": "Age",
         "rawType": "int64",
         "type": "integer"
        },
        {
         "name": "Gender",
         "rawType": "object",
         "type": "string"
        },
        {
         "name": "Income_Level",
         "rawType": "object",
         "type": "string"
        },
        {
         "name": "Marital_Status",
         "rawType": "object",
         "type": "string"
        },
        {
         "name": "Education_Level",
         "rawType": "object",
         "type": "string"
        },
        {
         "name": "Occupation",
         "rawType": "object",
         "type": "string"
        },
        {
         "name": "Location",
         "rawType": "object",
         "type": "string"
        },
        {
         "name": "Purchase_Category",
         "rawType": "object",
         "type": "string"
        },
        {
         "name": "Purchase_Amount",
         "rawType": "object",
         "type": "string"
        },
        {
         "name": "Frequency_of_Purchase",
         "rawType": "int64",
         "type": "integer"
        },
        {
         "name": "Purchase_Channel",
         "rawType": "object",
         "type": "string"
        },
        {
         "name": "Brand_Loyalty",
         "rawType": "int64",
         "type": "integer"
        },
        {
         "name": "Product_Rating",
         "rawType": "int64",
         "type": "integer"
        },
        {
         "name": "Time_Spent_on_Product_Research(hours)",
         "rawType": "float64",
         "type": "float"
        },
        {
         "name": "Social_Media_Influence",
         "rawType": "object",
         "type": "unknown"
        },
        {
         "name": "Discount_Sensitivity",
         "rawType": "object",
         "type": "string"
        },
        {
         "name": "Return_Rate",
         "rawType": "int64",
         "type": "integer"
        },
        {
         "name": "Customer_Satisfaction",
         "rawType": "int64",
         "type": "integer"
        },
        {
         "name": "Engagement_with_Ads",
         "rawType": "string",
         "type": "string"
        },
        {
         "name": "Device_Used_for_Shopping",
         "rawType": "object",
         "type": "string"
        },
        {
         "name": "Payment_Method",
         "rawType": "object",
         "type": "string"
        },
        {
         "name": "Time_of_Purchase",
         "rawType": "object",
         "type": "string"
        },
        {
         "name": "Discount_Used",
         "rawType": "bool",
         "type": "boolean"
        },
        {
         "name": "Customer_Loyalty_Program_Member",
         "rawType": "bool",
         "type": "boolean"
        },
        {
         "name": "Purchase_Intent",
         "rawType": "object",
         "type": "string"
        },
        {
         "name": "Shipping_Preference",
         "rawType": "object",
         "type": "string"
        },
        {
         "name": "Time_to_Decision",
         "rawType": "int64",
         "type": "integer"
        },
        {
         "name": "Engagement_with_Ads_Score",
         "rawType": "float64",
         "type": "float"
        }
       ],
       "ref": "b8a8a18e-6817-4869-b45d-855684b53211",
       "rows": [
        [
         "0",
         "37-611-6911",
         "22",
         "Female",
         "Middle",
         "Married",
         "Bachelor's",
         "Middle",
         "Évry",
         "Gardening & Outdoors",
         "$333.80 ",
         "4",
         "Mixed",
         "5",
         "5",
         "2.0",
         null,
         "Somewhat Sensitive",
         "1",
         "7",
         null,
         "Tablet",
         "Credit Card",
         "3/1/2024",
         "True",
         "False",
         "Need-based",
         "No Preference",
         "2",
         null
        ],
        [
         "1",
         "29-392-9296",
         "49",
         "Male",
         "High",
         "Married",
         "High School",
         "High",
         "Huocheng",
         "Food & Beverages",
         "$222.22 ",
         "11",
         "In-Store",
         "3",
         "1",
         "2.0",
         "Medium",
         "Not Sensitive",
         "1",
         "5",
         "High",
         "Tablet",
         "PayPal",
         "4/16/2024",
         "True",
         "False",
         "Wants-based",
         "Standard",
         "6",
         "3.0"
        ],
        [
         "2",
         "84-649-5117",
         "24",
         "Female",
         "Middle",
         "Single",
         "Master's",
         "High",
         "Huzhen",
         "Office Supplies",
         "$426.22 ",
         "2",
         "Mixed",
         "5",
         "5",
         "0.3",
         "Low",
         "Not Sensitive",
         "1",
         "7",
         "Low",
         "Smartphone",
         "Debit Card",
         "3/15/2024",
         "True",
         "True",
         "Impulsive",
         "No Preference",
         "3",
         "1.0"
        ],
        [
         "3",
         "48-980-6078",
         "29",
         "Female",
         "Middle",
         "Single",
         "Master's",
         "Middle",
         "Wiwilí",
         "Home Appliances",
         "$101.31 ",
         "6",
         "Mixed",
         "3",
         "1",
         "1.0",
         "High",
         "Somewhat Sensitive",
         "0",
         "1",
         null,
         "Smartphone",
         "Other",
         "10/4/2024",
         "True",
         "True",
         "Need-based",
         "Express",
         "10",
         null
        ],
        [
         "4",
         "91-170-9072",
         "33",
         "Female",
         "Middle",
         "Widowed",
         "High School",
         "Middle",
         "Nara",
         "Furniture",
         "$211.70 ",
         "6",
         "Mixed",
         "3",
         "4",
         "0.0",
         "Medium",
         "Not Sensitive",
         "2",
         "10",
         null,
         "Smartphone",
         "Debit Card",
         "1/30/2024",
         "False",
         "False",
         "Wants-based",
         "No Preference",
         "4",
         null
        ]
       ],
       "shape": {
        "columns": 29,
        "rows": 5
       }
      },
      "text/html": [
       "<div>\n",
       "<style scoped>\n",
       "    .dataframe tbody tr th:only-of-type {\n",
       "        vertical-align: middle;\n",
       "    }\n",
       "\n",
       "    .dataframe tbody tr th {\n",
       "        vertical-align: top;\n",
       "    }\n",
       "\n",
       "    .dataframe thead th {\n",
       "        text-align: right;\n",
       "    }\n",
       "</style>\n",
       "<table border=\"1\" class=\"dataframe\">\n",
       "  <thead>\n",
       "    <tr style=\"text-align: right;\">\n",
       "      <th></th>\n",
       "      <th>Customer_ID</th>\n",
       "      <th>Age</th>\n",
       "      <th>Gender</th>\n",
       "      <th>Income_Level</th>\n",
       "      <th>Marital_Status</th>\n",
       "      <th>Education_Level</th>\n",
       "      <th>Occupation</th>\n",
       "      <th>Location</th>\n",
       "      <th>Purchase_Category</th>\n",
       "      <th>Purchase_Amount</th>\n",
       "      <th>...</th>\n",
       "      <th>Engagement_with_Ads</th>\n",
       "      <th>Device_Used_for_Shopping</th>\n",
       "      <th>Payment_Method</th>\n",
       "      <th>Time_of_Purchase</th>\n",
       "      <th>Discount_Used</th>\n",
       "      <th>Customer_Loyalty_Program_Member</th>\n",
       "      <th>Purchase_Intent</th>\n",
       "      <th>Shipping_Preference</th>\n",
       "      <th>Time_to_Decision</th>\n",
       "      <th>Engagement_with_Ads_Score</th>\n",
       "    </tr>\n",
       "  </thead>\n",
       "  <tbody>\n",
       "    <tr>\n",
       "      <th>0</th>\n",
       "      <td>37-611-6911</td>\n",
       "      <td>22</td>\n",
       "      <td>Female</td>\n",
       "      <td>Middle</td>\n",
       "      <td>Married</td>\n",
       "      <td>Bachelor's</td>\n",
       "      <td>Middle</td>\n",
       "      <td>Évry</td>\n",
       "      <td>Gardening &amp; Outdoors</td>\n",
       "      <td>$333.80</td>\n",
       "      <td>...</td>\n",
       "      <td>&lt;NA&gt;</td>\n",
       "      <td>Tablet</td>\n",
       "      <td>Credit Card</td>\n",
       "      <td>3/1/2024</td>\n",
       "      <td>True</td>\n",
       "      <td>False</td>\n",
       "      <td>Need-based</td>\n",
       "      <td>No Preference</td>\n",
       "      <td>2</td>\n",
       "      <td>NaN</td>\n",
       "    </tr>\n",
       "    <tr>\n",
       "      <th>1</th>\n",
       "      <td>29-392-9296</td>\n",
       "      <td>49</td>\n",
       "      <td>Male</td>\n",
       "      <td>High</td>\n",
       "      <td>Married</td>\n",
       "      <td>High School</td>\n",
       "      <td>High</td>\n",
       "      <td>Huocheng</td>\n",
       "      <td>Food &amp; Beverages</td>\n",
       "      <td>$222.22</td>\n",
       "      <td>...</td>\n",
       "      <td>High</td>\n",
       "      <td>Tablet</td>\n",
       "      <td>PayPal</td>\n",
       "      <td>4/16/2024</td>\n",
       "      <td>True</td>\n",
       "      <td>False</td>\n",
       "      <td>Wants-based</td>\n",
       "      <td>Standard</td>\n",
       "      <td>6</td>\n",
       "      <td>3.0</td>\n",
       "    </tr>\n",
       "    <tr>\n",
       "      <th>2</th>\n",
       "      <td>84-649-5117</td>\n",
       "      <td>24</td>\n",
       "      <td>Female</td>\n",
       "      <td>Middle</td>\n",
       "      <td>Single</td>\n",
       "      <td>Master's</td>\n",
       "      <td>High</td>\n",
       "      <td>Huzhen</td>\n",
       "      <td>Office Supplies</td>\n",
       "      <td>$426.22</td>\n",
       "      <td>...</td>\n",
       "      <td>Low</td>\n",
       "      <td>Smartphone</td>\n",
       "      <td>Debit Card</td>\n",
       "      <td>3/15/2024</td>\n",
       "      <td>True</td>\n",
       "      <td>True</td>\n",
       "      <td>Impulsive</td>\n",
       "      <td>No Preference</td>\n",
       "      <td>3</td>\n",
       "      <td>1.0</td>\n",
       "    </tr>\n",
       "    <tr>\n",
       "      <th>3</th>\n",
       "      <td>48-980-6078</td>\n",
       "      <td>29</td>\n",
       "      <td>Female</td>\n",
       "      <td>Middle</td>\n",
       "      <td>Single</td>\n",
       "      <td>Master's</td>\n",
       "      <td>Middle</td>\n",
       "      <td>Wiwilí</td>\n",
       "      <td>Home Appliances</td>\n",
       "      <td>$101.31</td>\n",
       "      <td>...</td>\n",
       "      <td>&lt;NA&gt;</td>\n",
       "      <td>Smartphone</td>\n",
       "      <td>Other</td>\n",
       "      <td>10/4/2024</td>\n",
       "      <td>True</td>\n",
       "      <td>True</td>\n",
       "      <td>Need-based</td>\n",
       "      <td>Express</td>\n",
       "      <td>10</td>\n",
       "      <td>NaN</td>\n",
       "    </tr>\n",
       "    <tr>\n",
       "      <th>4</th>\n",
       "      <td>91-170-9072</td>\n",
       "      <td>33</td>\n",
       "      <td>Female</td>\n",
       "      <td>Middle</td>\n",
       "      <td>Widowed</td>\n",
       "      <td>High School</td>\n",
       "      <td>Middle</td>\n",
       "      <td>Nara</td>\n",
       "      <td>Furniture</td>\n",
       "      <td>$211.70</td>\n",
       "      <td>...</td>\n",
       "      <td>&lt;NA&gt;</td>\n",
       "      <td>Smartphone</td>\n",
       "      <td>Debit Card</td>\n",
       "      <td>1/30/2024</td>\n",
       "      <td>False</td>\n",
       "      <td>False</td>\n",
       "      <td>Wants-based</td>\n",
       "      <td>No Preference</td>\n",
       "      <td>4</td>\n",
       "      <td>NaN</td>\n",
       "    </tr>\n",
       "  </tbody>\n",
       "</table>\n",
       "<p>5 rows × 29 columns</p>\n",
       "</div>"
      ],
      "text/plain": [
       "   Customer_ID  Age  Gender Income_Level Marital_Status Education_Level  \\\n",
       "0  37-611-6911   22  Female       Middle        Married      Bachelor's   \n",
       "1  29-392-9296   49    Male         High        Married     High School   \n",
       "2  84-649-5117   24  Female       Middle         Single        Master's   \n",
       "3  48-980-6078   29  Female       Middle         Single        Master's   \n",
       "4  91-170-9072   33  Female       Middle        Widowed     High School   \n",
       "\n",
       "  Occupation  Location     Purchase_Category Purchase_Amount  ...  \\\n",
       "0     Middle      Évry  Gardening & Outdoors        $333.80   ...   \n",
       "1       High  Huocheng      Food & Beverages        $222.22   ...   \n",
       "2       High    Huzhen       Office Supplies        $426.22   ...   \n",
       "3     Middle    Wiwilí       Home Appliances        $101.31   ...   \n",
       "4     Middle      Nara             Furniture        $211.70   ...   \n",
       "\n",
       "   Engagement_with_Ads Device_Used_for_Shopping  Payment_Method  \\\n",
       "0                 <NA>                   Tablet     Credit Card   \n",
       "1                 High                   Tablet          PayPal   \n",
       "2                  Low               Smartphone      Debit Card   \n",
       "3                 <NA>               Smartphone           Other   \n",
       "4                 <NA>               Smartphone      Debit Card   \n",
       "\n",
       "   Time_of_Purchase  Discount_Used Customer_Loyalty_Program_Member  \\\n",
       "0          3/1/2024           True                           False   \n",
       "1         4/16/2024           True                           False   \n",
       "2         3/15/2024           True                            True   \n",
       "3         10/4/2024           True                            True   \n",
       "4         1/30/2024          False                           False   \n",
       "\n",
       "  Purchase_Intent  Shipping_Preference  Time_to_Decision  \\\n",
       "0      Need-based        No Preference                 2   \n",
       "1     Wants-based             Standard                 6   \n",
       "2       Impulsive        No Preference                 3   \n",
       "3      Need-based              Express                10   \n",
       "4     Wants-based        No Preference                 4   \n",
       "\n",
       "  Engagement_with_Ads_Score  \n",
       "0                       NaN  \n",
       "1                       3.0  \n",
       "2                       1.0  \n",
       "3                       NaN  \n",
       "4                       NaN  \n",
       "\n",
       "[5 rows x 29 columns]"
      ]
     },
     "execution_count": 3,
     "metadata": {},
     "output_type": "execute_result"
    }
   ],
   "source": [
    "df = load_data(\"Ecommerce_Consumer_Behavior_Analysis_Data.csv\")\n",
    "df = clean_engagement(df)\n",
    "df.head()"
   ]
  },
  {
   "cell_type": "code",
   "execution_count": 4,
   "id": "6c39caff",
   "metadata": {},
   "outputs": [
    {
     "data": {
      "application/vnd.microsoft.datawrangler.viewer.v0+json": {
       "columns": [
        {
         "name": "index",
         "rawType": "int64",
         "type": "integer"
        },
        {
         "name": "Customer_ID",
         "rawType": "object",
         "type": "string"
        },
        {
         "name": "Age",
         "rawType": "int64",
         "type": "integer"
        },
        {
         "name": "Gender",
         "rawType": "object",
         "type": "string"
        },
        {
         "name": "Income_Level",
         "rawType": "object",
         "type": "string"
        },
        {
         "name": "Marital_Status",
         "rawType": "object",
         "type": "string"
        },
        {
         "name": "Education_Level",
         "rawType": "object",
         "type": "string"
        },
        {
         "name": "Occupation",
         "rawType": "object",
         "type": "string"
        },
        {
         "name": "Location",
         "rawType": "object",
         "type": "string"
        },
        {
         "name": "Purchase_Category",
         "rawType": "object",
         "type": "string"
        },
        {
         "name": "Purchase_Amount",
         "rawType": "object",
         "type": "string"
        },
        {
         "name": "Frequency_of_Purchase",
         "rawType": "int64",
         "type": "integer"
        },
        {
         "name": "Purchase_Channel",
         "rawType": "object",
         "type": "string"
        },
        {
         "name": "Brand_Loyalty",
         "rawType": "int64",
         "type": "integer"
        },
        {
         "name": "Product_Rating",
         "rawType": "int64",
         "type": "integer"
        },
        {
         "name": "Time_Spent_on_Product_Research(hours)",
         "rawType": "float64",
         "type": "float"
        },
        {
         "name": "Social_Media_Influence",
         "rawType": "object",
         "type": "string"
        },
        {
         "name": "Discount_Sensitivity",
         "rawType": "object",
         "type": "string"
        },
        {
         "name": "Return_Rate",
         "rawType": "int64",
         "type": "integer"
        },
        {
         "name": "Customer_Satisfaction",
         "rawType": "int64",
         "type": "integer"
        },
        {
         "name": "Engagement_with_Ads",
         "rawType": "string",
         "type": "string"
        },
        {
         "name": "Device_Used_for_Shopping",
         "rawType": "object",
         "type": "string"
        },
        {
         "name": "Payment_Method",
         "rawType": "object",
         "type": "string"
        },
        {
         "name": "Time_of_Purchase",
         "rawType": "object",
         "type": "string"
        },
        {
         "name": "Discount_Used",
         "rawType": "bool",
         "type": "boolean"
        },
        {
         "name": "Customer_Loyalty_Program_Member",
         "rawType": "bool",
         "type": "boolean"
        },
        {
         "name": "Purchase_Intent",
         "rawType": "object",
         "type": "string"
        },
        {
         "name": "Shipping_Preference",
         "rawType": "object",
         "type": "string"
        },
        {
         "name": "Time_to_Decision",
         "rawType": "int64",
         "type": "integer"
        },
        {
         "name": "Engagement_with_Ads_Score",
         "rawType": "float64",
         "type": "float"
        }
       ],
       "ref": "fd4eab61-3c33-4832-8c63-e5939b2a2bca",
       "rows": [
        [
         "2",
         "84-649-5117",
         "24",
         "Female",
         "Middle",
         "Single",
         "Master's",
         "High",
         "Huzhen",
         "Office Supplies",
         "$426.22 ",
         "2",
         "Mixed",
         "5",
         "5",
         "0.3",
         "Low",
         "Not Sensitive",
         "1",
         "7",
         "Low",
         "Smartphone",
         "Debit Card",
         "3/15/2024",
         "True",
         "True",
         "Impulsive",
         "No Preference",
         "3",
         "1.0"
        ],
        [
         "3",
         "48-980-6078",
         "29",
         "Female",
         "Middle",
         "Single",
         "Master's",
         "Middle",
         "Wiwilí",
         "Home Appliances",
         "$101.31 ",
         "6",
         "Mixed",
         "3",
         "1",
         "1.0",
         "High",
         "Somewhat Sensitive",
         "0",
         "1",
         null,
         "Smartphone",
         "Other",
         "10/4/2024",
         "True",
         "True",
         "Need-based",
         "Express",
         "10",
         null
        ],
        [
         "4",
         "91-170-9072",
         "33",
         "Female",
         "Middle",
         "Widowed",
         "High School",
         "Middle",
         "Nara",
         "Furniture",
         "$211.70 ",
         "6",
         "Mixed",
         "3",
         "4",
         "0.0",
         "Medium",
         "Not Sensitive",
         "2",
         "10",
         null,
         "Smartphone",
         "Debit Card",
         "1/30/2024",
         "False",
         "False",
         "Wants-based",
         "No Preference",
         "4",
         null
        ],
        [
         "13",
         "80-684-5072",
         "32",
         "Male",
         "High",
         "Married",
         "High School",
         "Middle",
         "Rokytne",
         "Animal Feed",
         "$79.81 ",
         "4",
         "Mixed",
         "5",
         "5",
         "0.0",
         "High",
         "Not Sensitive",
         "0",
         "9",
         "High",
         "Smartphone",
         "Debit Card",
         "7/16/2024",
         "False",
         "True",
         "Wants-based",
         "Standard",
         "14",
         "3.0"
        ],
        [
         "16",
         "45-073-7243",
         "37",
         "Male",
         "High",
         "Single",
         "Bachelor's",
         "High",
         "Jindong",
         "Furniture",
         "$356.45 ",
         "6",
         "Mixed",
         "5",
         "5",
         "2.0",
         "Low",
         "Very Sensitive",
         "0",
         "7",
         "Medium",
         "Smartphone",
         "Credit Card",
         "10/18/2024",
         "False",
         "True",
         "Planned",
         "Standard",
         "8",
         "2.0"
        ]
       ],
       "shape": {
        "columns": 29,
        "rows": 5
       }
      },
      "text/html": [
       "<div>\n",
       "<style scoped>\n",
       "    .dataframe tbody tr th:only-of-type {\n",
       "        vertical-align: middle;\n",
       "    }\n",
       "\n",
       "    .dataframe tbody tr th {\n",
       "        vertical-align: top;\n",
       "    }\n",
       "\n",
       "    .dataframe thead th {\n",
       "        text-align: right;\n",
       "    }\n",
       "</style>\n",
       "<table border=\"1\" class=\"dataframe\">\n",
       "  <thead>\n",
       "    <tr style=\"text-align: right;\">\n",
       "      <th></th>\n",
       "      <th>Customer_ID</th>\n",
       "      <th>Age</th>\n",
       "      <th>Gender</th>\n",
       "      <th>Income_Level</th>\n",
       "      <th>Marital_Status</th>\n",
       "      <th>Education_Level</th>\n",
       "      <th>Occupation</th>\n",
       "      <th>Location</th>\n",
       "      <th>Purchase_Category</th>\n",
       "      <th>Purchase_Amount</th>\n",
       "      <th>...</th>\n",
       "      <th>Engagement_with_Ads</th>\n",
       "      <th>Device_Used_for_Shopping</th>\n",
       "      <th>Payment_Method</th>\n",
       "      <th>Time_of_Purchase</th>\n",
       "      <th>Discount_Used</th>\n",
       "      <th>Customer_Loyalty_Program_Member</th>\n",
       "      <th>Purchase_Intent</th>\n",
       "      <th>Shipping_Preference</th>\n",
       "      <th>Time_to_Decision</th>\n",
       "      <th>Engagement_with_Ads_Score</th>\n",
       "    </tr>\n",
       "  </thead>\n",
       "  <tbody>\n",
       "    <tr>\n",
       "      <th>2</th>\n",
       "      <td>84-649-5117</td>\n",
       "      <td>24</td>\n",
       "      <td>Female</td>\n",
       "      <td>Middle</td>\n",
       "      <td>Single</td>\n",
       "      <td>Master's</td>\n",
       "      <td>High</td>\n",
       "      <td>Huzhen</td>\n",
       "      <td>Office Supplies</td>\n",
       "      <td>$426.22</td>\n",
       "      <td>...</td>\n",
       "      <td>Low</td>\n",
       "      <td>Smartphone</td>\n",
       "      <td>Debit Card</td>\n",
       "      <td>3/15/2024</td>\n",
       "      <td>True</td>\n",
       "      <td>True</td>\n",
       "      <td>Impulsive</td>\n",
       "      <td>No Preference</td>\n",
       "      <td>3</td>\n",
       "      <td>1.0</td>\n",
       "    </tr>\n",
       "    <tr>\n",
       "      <th>3</th>\n",
       "      <td>48-980-6078</td>\n",
       "      <td>29</td>\n",
       "      <td>Female</td>\n",
       "      <td>Middle</td>\n",
       "      <td>Single</td>\n",
       "      <td>Master's</td>\n",
       "      <td>Middle</td>\n",
       "      <td>Wiwilí</td>\n",
       "      <td>Home Appliances</td>\n",
       "      <td>$101.31</td>\n",
       "      <td>...</td>\n",
       "      <td>&lt;NA&gt;</td>\n",
       "      <td>Smartphone</td>\n",
       "      <td>Other</td>\n",
       "      <td>10/4/2024</td>\n",
       "      <td>True</td>\n",
       "      <td>True</td>\n",
       "      <td>Need-based</td>\n",
       "      <td>Express</td>\n",
       "      <td>10</td>\n",
       "      <td>NaN</td>\n",
       "    </tr>\n",
       "    <tr>\n",
       "      <th>4</th>\n",
       "      <td>91-170-9072</td>\n",
       "      <td>33</td>\n",
       "      <td>Female</td>\n",
       "      <td>Middle</td>\n",
       "      <td>Widowed</td>\n",
       "      <td>High School</td>\n",
       "      <td>Middle</td>\n",
       "      <td>Nara</td>\n",
       "      <td>Furniture</td>\n",
       "      <td>$211.70</td>\n",
       "      <td>...</td>\n",
       "      <td>&lt;NA&gt;</td>\n",
       "      <td>Smartphone</td>\n",
       "      <td>Debit Card</td>\n",
       "      <td>1/30/2024</td>\n",
       "      <td>False</td>\n",
       "      <td>False</td>\n",
       "      <td>Wants-based</td>\n",
       "      <td>No Preference</td>\n",
       "      <td>4</td>\n",
       "      <td>NaN</td>\n",
       "    </tr>\n",
       "    <tr>\n",
       "      <th>13</th>\n",
       "      <td>80-684-5072</td>\n",
       "      <td>32</td>\n",
       "      <td>Male</td>\n",
       "      <td>High</td>\n",
       "      <td>Married</td>\n",
       "      <td>High School</td>\n",
       "      <td>Middle</td>\n",
       "      <td>Rokytne</td>\n",
       "      <td>Animal Feed</td>\n",
       "      <td>$79.81</td>\n",
       "      <td>...</td>\n",
       "      <td>High</td>\n",
       "      <td>Smartphone</td>\n",
       "      <td>Debit Card</td>\n",
       "      <td>7/16/2024</td>\n",
       "      <td>False</td>\n",
       "      <td>True</td>\n",
       "      <td>Wants-based</td>\n",
       "      <td>Standard</td>\n",
       "      <td>14</td>\n",
       "      <td>3.0</td>\n",
       "    </tr>\n",
       "    <tr>\n",
       "      <th>16</th>\n",
       "      <td>45-073-7243</td>\n",
       "      <td>37</td>\n",
       "      <td>Male</td>\n",
       "      <td>High</td>\n",
       "      <td>Single</td>\n",
       "      <td>Bachelor's</td>\n",
       "      <td>High</td>\n",
       "      <td>Jindong</td>\n",
       "      <td>Furniture</td>\n",
       "      <td>$356.45</td>\n",
       "      <td>...</td>\n",
       "      <td>Medium</td>\n",
       "      <td>Smartphone</td>\n",
       "      <td>Credit Card</td>\n",
       "      <td>10/18/2024</td>\n",
       "      <td>False</td>\n",
       "      <td>True</td>\n",
       "      <td>Planned</td>\n",
       "      <td>Standard</td>\n",
       "      <td>8</td>\n",
       "      <td>2.0</td>\n",
       "    </tr>\n",
       "  </tbody>\n",
       "</table>\n",
       "<p>5 rows × 29 columns</p>\n",
       "</div>"
      ],
      "text/plain": [
       "    Customer_ID  Age  Gender Income_Level Marital_Status Education_Level  \\\n",
       "2   84-649-5117   24  Female       Middle         Single        Master's   \n",
       "3   48-980-6078   29  Female       Middle         Single        Master's   \n",
       "4   91-170-9072   33  Female       Middle        Widowed     High School   \n",
       "13  80-684-5072   32    Male         High        Married     High School   \n",
       "16  45-073-7243   37    Male         High         Single      Bachelor's   \n",
       "\n",
       "   Occupation Location Purchase_Category Purchase_Amount  ...  \\\n",
       "2        High   Huzhen   Office Supplies        $426.22   ...   \n",
       "3      Middle   Wiwilí   Home Appliances        $101.31   ...   \n",
       "4      Middle     Nara         Furniture        $211.70   ...   \n",
       "13     Middle  Rokytne       Animal Feed         $79.81   ...   \n",
       "16       High  Jindong         Furniture        $356.45   ...   \n",
       "\n",
       "    Engagement_with_Ads Device_Used_for_Shopping  Payment_Method  \\\n",
       "2                   Low               Smartphone      Debit Card   \n",
       "3                  <NA>               Smartphone           Other   \n",
       "4                  <NA>               Smartphone      Debit Card   \n",
       "13                 High               Smartphone      Debit Card   \n",
       "16               Medium               Smartphone     Credit Card   \n",
       "\n",
       "    Time_of_Purchase  Discount_Used Customer_Loyalty_Program_Member  \\\n",
       "2          3/15/2024           True                            True   \n",
       "3          10/4/2024           True                            True   \n",
       "4          1/30/2024          False                           False   \n",
       "13         7/16/2024          False                            True   \n",
       "16        10/18/2024          False                            True   \n",
       "\n",
       "   Purchase_Intent  Shipping_Preference  Time_to_Decision  \\\n",
       "2        Impulsive        No Preference                 3   \n",
       "3       Need-based              Express                10   \n",
       "4      Wants-based        No Preference                 4   \n",
       "13     Wants-based             Standard                14   \n",
       "16         Planned             Standard                 8   \n",
       "\n",
       "   Engagement_with_Ads_Score  \n",
       "2                        1.0  \n",
       "3                        NaN  \n",
       "4                        NaN  \n",
       "13                       3.0  \n",
       "16                       2.0  \n",
       "\n",
       "[5 rows x 29 columns]"
      ]
     },
     "metadata": {},
     "output_type": "display_data"
    },
    {
     "data": {
      "application/vnd.microsoft.datawrangler.viewer.v0+json": {
       "columns": [
        {
         "name": "Device_Used_for_Shopping",
         "rawType": "object",
         "type": "string"
        },
        {
         "name": "Engagement_with_Ads_Score",
         "rawType": "float64",
         "type": "float"
        }
       ],
       "ref": "fc4f8b92-83c6-4955-a639-8e9d3c9ba8a9",
       "rows": [
        [
         "Desktop",
         "2.145038167938931"
        ],
        [
         "Smartphone",
         "2.0128205128205128"
        ],
        [
         "Tablet",
         "1.9959677419354838"
        ]
       ],
       "shape": {
        "columns": 1,
        "rows": 3
       }
      },
      "text/plain": [
       "Device_Used_for_Shopping\n",
       "Desktop       2.145038\n",
       "Smartphone    2.012821\n",
       "Tablet        1.995968\n",
       "Name: Engagement_with_Ads_Score, dtype: float64"
      ]
     },
     "execution_count": 4,
     "metadata": {},
     "output_type": "execute_result"
    }
   ],
   "source": [
    "smartphone_users = filter_smartphone_users(df)\n",
    "display(smartphone_users.head())  # quick peek\n",
    "\n",
    "device_ads = group_device_ads_mean(df)\n",
    "device_ads  # shows avg engagement score by device"
   ]
  },
  {
   "cell_type": "code",
   "execution_count": 5,
   "id": "d5a90270",
   "metadata": {},
   "outputs": [],
   "source": [
    "plot_device_ads(device_ads)"
   ]
  },
  {
   "cell_type": "code",
   "execution_count": null,
   "id": "9715358d",
   "metadata": {},
   "outputs": [
    {
     "name": "stdout",
     "output_type": "stream",
     "text": [
      "Features shape: (744, 2)\n",
      "Labels shape: (744,)\n",
      "Accuracy: 0.6442953020134228\n"
     ]
    }
   ],
   "source": [
    "# ML experiment in notebook\n",
    "\n",
    "X, y = prepare_ml_frame(df)\n",
    "model, acc = train_and_eval_logreg(X, y)\n",
    "\n",
    "print(\"Features shape:\", X.shape)\n",
    "print(\"Labels shape:\", y.shape)\n",
    "print(\"Accuracy:\", acc)"
   ]
  }
 ],
 "metadata": {
  "kernelspec": {
   "display_name": ".venv",
   "language": "python",
   "name": "python3"
  },
  "language_info": {
   "codemirror_mode": {
    "name": "ipython",
    "version": 3
   },
   "file_extension": ".py",
   "mimetype": "text/x-python",
   "name": "python",
   "nbconvert_exporter": "python",
   "pygments_lexer": "ipython3",
   "version": "3.12.11"
  }
 },
 "nbformat": 4,
 "nbformat_minor": 5
}
